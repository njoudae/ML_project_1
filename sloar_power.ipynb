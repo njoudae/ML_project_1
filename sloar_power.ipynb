{
 "cells": [
  {
   "cell_type": "code",
   "execution_count": null,
   "id": "a4d48ff3",
   "metadata": {},
   "outputs": [],
   "source": []
  },
  {
   "cell_type": "code",
   "execution_count": 49,
   "id": "c5fd4ccb",
   "metadata": {},
   "outputs": [
    {
     "name": "stdout",
     "output_type": "stream",
     "text": [
      "Found 5 members\n",
      "\n",
      " 198,568,076  df5.pkl\n",
      " 198,568,076  df3.pkl\n",
      " 198,568,076  df4.pkl\n",
      " 198,568,052  df2.pkl\n",
      " 198,567,992  df1.pkl\n"
     ]
    }
   ],
   "source": [
    "import zipfile\n",
    "\n",
    "with zipfile.ZipFile(\"Data.zip\", \"r\") as z:\n",
    "    \n",
    "    infos = sorted(z.infolist(), key=lambda i: i.file_size, reverse=True)\n",
    "    print(f\"Found {len(infos)} members\\n\")\n",
    "    for i in infos[:50]:\n",
    "        print(f\"{i.file_size:>12,d}  {i.filename}\")\n",
    "        \n"
   ]
  }
 ],
 "metadata": {
  "kernelspec": {
   "display_name": "base",
   "language": "python",
   "name": "python3"
  },
  "language_info": {
   "codemirror_mode": {
    "name": "ipython",
    "version": 3
   },
   "file_extension": ".py",
   "mimetype": "text/x-python",
   "name": "python",
   "nbconvert_exporter": "python",
   "pygments_lexer": "ipython3",
   "version": "3.12.3"
  }
 },
 "nbformat": 4,
 "nbformat_minor": 5
}
